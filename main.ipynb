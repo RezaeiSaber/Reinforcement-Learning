{
 "cells": [
  {
   "cell_type": "markdown",
   "id": "080ed718",
   "metadata": {},
   "source": [
    "# Install the ucimlrepo package \n"
   ]
  },
  {
   "cell_type": "code",
   "execution_count": null,
   "id": "83d9bedd",
   "metadata": {},
   "outputs": [
    {
     "ename": "",
     "evalue": "",
     "output_type": "error",
     "traceback": [
      "\u001b[1;31mRunning cells with 'yolov8-py310 (Python 3.10.16)' requires the ipykernel package.\n",
      "\u001b[1;31m<a href='command:jupyter.createPythonEnvAndSelectController'>Create a Python Environment</a> with the required packages.\n",
      "\u001b[1;31mOr install 'ipykernel' using the command: 'conda install -n yolov8-py310 ipykernel --update-deps --force-reinstall'"
     ]
    }
   ],
   "source": [
    "#!pip install ucimlrepo"
   ]
  },
  {
   "cell_type": "code",
   "execution_count": null,
   "id": "cfc70c66",
   "metadata": {},
   "outputs": [],
   "source": []
  }
 ],
 "metadata": {
  "kernelspec": {
   "display_name": "yolov8-py310",
   "language": "python",
   "name": "python3"
  },
  "language_info": {
   "name": "python",
   "version": "3.10.16"
  }
 },
 "nbformat": 4,
 "nbformat_minor": 5
}
